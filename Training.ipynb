{
 "cells": [
  {
   "cell_type": "markdown",
   "id": "dbe42981-ed67-42c1-a02f-904e93922812",
   "metadata": {},
   "source": [
    "# Introduction to Python and Napari\n",
    "## Laura Cooper, CAMDU"
   ]
  },
  {
   "cell_type": "markdown",
   "id": "928326f8-a930-40fb-9cdb-32532e45c26c",
   "metadata": {},
   "source": [
    "The aim of this training is to give you an idea of of what is possible for image analysis with python and napari as well as giving you initial skills and knowledge to begin developing your own scripts."
   ]
  },
  {
   "cell_type": "markdown",
   "id": "2235d63f-c75c-4a9a-b5b8-eef581111e82",
   "metadata": {},
   "source": [
    "### SetupCheck\n",
    "\n",
    "Packages contain of functions and classes. A function performs a task and a classes describes an object. The contents of a package usually relates to a paticular task. For example:\n",
    "- NumPy is for numerical computing\n",
    "- Scikit-image is for image analysis\n",
    "- Napari is for data visualisation\n",
    "There are many packages available, use an internet search or an AI chatbot to find appropriate packages for your needs.\n",
    "\n",
    "```%``` indicates a magic command when using IPython (e.g. in Spyder) or Jupyter notebook. In this case it is needed for napari to open. If you are writting a python script (.py), you don't need this line but you will need to use the napari.run() function."
   ]
  },
  {
   "cell_type": "code",
   "execution_count": 1,
   "id": "e0cedb48-0067-4d96-8553-13a00ef9d1b1",
   "metadata": {},
   "outputs": [],
   "source": [
    "# Gui for rendering\n",
    "%gui qt5\n",
    "# Packages\n",
    "import numpy as np\n",
    "from skimage.io import imread\n",
    "import napari"
   ]
  },
  {
   "cell_type": "markdown",
   "id": "fa793e4f-0c00-4487-a9d5-e8d8189a1541",
   "metadata": {},
   "source": [
    "```imread``` is an example of a function. It opens an image file and imports the contents into an array (specifically a numpy array in this case). ```imread``` tries different plugins to open an image, in this case as it is opening a .tif file so it uses the tifffile plugin by default. This means that the ```skimage.io.imread``` command can only read images if it can find an appropriate plugin. To find out more have a look at the [skimage.io.read documentation](https://scikit-image.org/docs/stable/api/skimage.io.html#skimage.io.imread).\n",
    "\n",
    "The ```=``` assigns the array to a variable called ```image```. An array is a type of data structure. Data structures are a way to store and organise data. An array has a fixed size and contains elements which are all of the same type. We will look at some examples of types later in the notebook."
   ]
  },
  {
   "cell_type": "code",
   "execution_count": 2,
   "id": "f1b51729-8dac-4b87-90c4-41ff353f480d",
   "metadata": {},
   "outputs": [],
   "source": [
    "# Load image\n",
    "image = imread(\"nuclei1_out_c00_dr90_image.tif\")"
   ]
  },
  {
   "cell_type": "markdown",
   "id": "41100b7e-d830-47ac-ba03-c120ef3b9b96",
   "metadata": {},
   "source": [
    "```napari.view_image``` function opens the napari viewer and visualises our ```image```."
   ]
  },
  {
   "cell_type": "code",
   "execution_count": 3,
   "id": "ad4dd6a0-40d7-41b1-93a6-1490c0bc2f53",
   "metadata": {},
   "outputs": [],
   "source": [
    "# Open image in napari\n",
    "viewer = napari.view_image(image)"
   ]
  },
  {
   "cell_type": "markdown",
   "id": "d5455ed6-46c0-4874-9c7e-c7f7ac7d21bb",
   "metadata": {},
   "source": [
    "Within napari try:\n",
    "- Viewing the data in 2D and 3D\n",
    "- Zooming and rotating\n",
    "- Changing the rendering settings\n",
    "- Creating annotations with point and shape layers\n",
    "- Projecting the image\n",
    "- View the data in different axes (e.g. x-y, x-z, y-z)"
   ]
  },
  {
   "cell_type": "markdown",
   "id": "2d85aa92-5ce1-4b79-b52b-3c7447196468",
   "metadata": {},
   "source": [
    "### Investigate image"
   ]
  },
  {
   "cell_type": "markdown",
   "id": "cefe9590-689b-4807-99a0-47561bb0d73a",
   "metadata": {},
   "source": [
    "```image.shape``` tells us the dimensions of ```image```. In this case the order is (ZXY). For images with more dimensions the order may be (ZCTXY) but this can depend on the image or how the file was read in, so it's worth checking if you are getting unexpected results. The syntax ```array.shape``` means we are calling an attribute of the array.\n",
    "<a id='image.shape'></a>"
   ]
  },
  {
   "cell_type": "code",
   "execution_count": 4,
   "id": "1db4a05c-136a-4093-ab26-ee571903e3f2",
   "metadata": {},
   "outputs": [
    {
     "data": {
      "text/plain": [
       "(100, 258, 258)"
      ]
     },
     "execution_count": 4,
     "metadata": {},
     "output_type": "execute_result"
    }
   ],
   "source": [
    "image.shape"
   ]
  },
  {
   "cell_type": "markdown",
   "id": "6967879e-d62c-4d2d-a8cf-88b16b855ea1",
   "metadata": {},
   "source": [
    "It's good to know type of image we are working with, e.g. is it 8 bit, 16 bit, RGB, etc. The ```type()``` function tells us variable type and can be used to identify the type of image. We have to call it a single element of the ```image``` array, ```type(image)``` will only tell use that ```image``` is an array. In python indexing starts from 0 so ```image[0,0,0]``` returns the value of the pixel at z=0, x=0, y=0 i.e. the first element from our ```image``` array. Square brackets are used for accessing elements in an array.\n",
    "\n",
    "The returned value ```numpy.uint16``` means that the elements of a numpy array are \"unsigned integer 16-bit\". These elements can only store non-negative integer values up to 65535. This tells us we are working with a 16-bit image."
   ]
  },
  {
   "cell_type": "code",
   "execution_count": 5,
   "id": "b8737f7c-4c82-4b20-b0b5-f4f6c86735fc",
   "metadata": {},
   "outputs": [
    {
     "data": {
      "text/plain": [
       "numpy.uint16"
      ]
     },
     "execution_count": 5,
     "metadata": {},
     "output_type": "execute_result"
    }
   ],
   "source": [
    "type(image[0,0,0])"
   ]
  },
  {
   "cell_type": "markdown",
   "id": "4eb716d4-93cf-46b8-a87f-2bc6b36c5090",
   "metadata": {},
   "source": [
    "We can use ```matplotlib.pyplot``` to plot graphs. ```matplotlib``` is the package that can create figures and plots like MATLAB, ```pyplot``` is the module used for creating plots."
   ]
  },
  {
   "cell_type": "code",
   "execution_count": 6,
   "id": "e36fb048-a78e-430a-b6c9-0491d5329186",
   "metadata": {},
   "outputs": [],
   "source": [
    "import matplotlib.pyplot as plt # Need to install!"
   ]
  },
  {
   "cell_type": "markdown",
   "id": "336ce4d3-e62a-4c3f-a293-265147364066",
   "metadata": {},
   "source": [
    "Plotting the histogram of the image can help us understand the data. We can use the ```plt.hist()``` function to plot ```image.ravel()``` as a histogram. ```image.ravel()``` converts our image array to a 1D array. ```ravel()``` is a \"method\"; in python a method is a function associated with an object. In this case, ```ravel()``` is associated with our ```image``` array. It is equivalent to the function ```np.ravel(image)```."
   ]
  },
  {
   "cell_type": "code",
   "execution_count": 7,
   "id": "840f38ea-2127-469c-9631-754de63e2a53",
   "metadata": {},
   "outputs": [
    {
     "data": {
      "image/png": "[encoded data removed]",
      "text/plain": [
       "<Figure size 640x480 with 1 Axes>"
      ]
     },
     "metadata": {},
     "output_type": "display_data"
    }
   ],
   "source": [
    "plt.hist(image.ravel())\n",
    "plt.show()"
   ]
  },
  {
   "cell_type": "markdown",
   "id": "cb33e702-5cb5-406d-81d9-4194be46d514",
   "metadata": {},
   "source": [
    "By default, the ```plt.hist()``` function automatically creates bins for the data. For image data it is more suitable for us to create one bin per intensity value. To do that we pass the ```bins``` parameter to the ```plt.hist``` function, whichs defines the number of bins to plot. Assigning this to be the maximum value for our image results in one bin per intensity value."
   ]
  },
  {
   "cell_type": "code",
   "execution_count": 8,
   "id": "9f329e26-b207-4ff9-bf3a-20c210b7bd97",
   "metadata": {},
   "outputs": [
    {
     "data": {
      "image/png": "[encoded data removed]",
      "text/plain": [
       "<Figure size 640x480 with 1 Axes>"
      ]
     },
     "metadata": {},
     "output_type": "display_data"
    }
   ],
   "source": [
    "np.max(image)\n",
    "plt.hist(image.ravel(), bins=np.max(image))\n",
    "plt.show()"
   ]
  },
  {
   "cell_type": "markdown",
   "id": "cc46a734-7ec6-4ca1-bdfb-62161ded89d1",
   "metadata": {},
   "source": [
    "Note that the plot axes are missing. If you'd like to learn how to add these labels and more please see the [matplotlib documentation](https://matplotlib.org/)"
   ]
  },
  {
   "cell_type": "markdown",
   "id": "61cca8a6-4aab-4217-bbe8-be23f2e1d039",
   "metadata": {},
   "source": [
    "### Segmentation\n",
    "\n",
    "We will segment the image to demonstrate some tools of the ```skimage``` package and how we can use Napari to check our pipeline as we develop it.\n",
    "\n",
    "To segment the nuclei in the image we will use a threshold. ```skimage.filters``` has a function similar to Fiji's Auto Threshold > Try All. it can be imported from ```skimage.filters```."
   ]
  },
  {
   "cell_type": "code",
   "execution_count": 9,
   "id": "1969413e-da02-44c0-8efc-9ec099875e9f",
   "metadata": {},
   "outputs": [],
   "source": [
    "from skimage.filters import try_all_threshold"
   ]
  },
  {
   "cell_type": "markdown",
   "id": "8233f7cb-bb33-46c9-b55b-f5537132774d",
   "metadata": {},
   "source": [
    "It only works on 2D images, so here we pass it the midplane of the image stack by defining the value of z as 50. The colons mean that all the elements in the x and y dimensions should be used."
   ]
  },
  {
   "cell_type": "code",
   "execution_count": 10,
   "id": "6c2fc3cc-b5a3-4357-8355-abc8d63a8471",
   "metadata": {},
   "outputs": [
    {
     "name": "stdout",
     "output_type": "stream",
     "text": [
      "skimage.filters.thresholding.threshold_isodata\n",
      "skimage.filters.thresholding.threshold_li\n",
      "skimage.filters.thresholding.threshold_mean\n",
      "skimage.filters.thresholding.threshold_minimum\n",
      "skimage.filters.thresholding.threshold_otsu\n",
      "skimage.filters.thresholding.threshold_triangle\n",
      "skimage.filters.thresholding.threshold_yen\n"
     ]
    },
    {
     "data": {
      "text/plain": [
       "(<Figure size 800x500 with 8 Axes>,\n",
       " array([<Axes: title={'center': 'Original'}>,\n",
       "        <Axes: title={'center': 'Isodata'}>,\n",
       "        <Axes: title={'center': 'Li'}>, <Axes: title={'center': 'Mean'}>,\n",
       "        <Axes: title={'center': 'Minimum'}>,\n",
       "        <Axes: title={'center': 'Otsu'}>,\n",
       "        <Axes: title={'center': 'Triangle'}>,\n",
       "        <Axes: title={'center': 'Yen'}>], dtype=object))"
      ]
     },
     "execution_count": 10,
     "metadata": {},
     "output_type": "execute_result"
    },
    {
     "data": {
      "image/png": "[encoded data removed]",
      "text/plain": [
       "<Figure size 800x500 with 8 Axes>"
      ]
     },
     "metadata": {},
     "output_type": "display_data"
    }
   ],
   "source": [
    "try_all_threshold(image[50,:,:])"
   ]
  },
  {
   "cell_type": "markdown",
   "id": "6b516638-ce05-4250-8862-dc9e0247d160",
   "metadata": {},
   "source": [
    "From this we can choose a suitable threhold, in this case I picked otsu, but there's not much to choose between them. We can then import the specific threshold we'd like to use. You can see the function call for each method at the top of the output and they can be imported as shown here."
   ]
  },
  {
   "cell_type": "code",
   "execution_count": 11,
   "id": "c3161a0f-d7bd-467b-9d48-8aa3b6e718ac",
   "metadata": {},
   "outputs": [],
   "source": [
    "from skimage.filters.thresholding import threshold_otsu"
   ]
  },
  {
   "cell_type": "markdown",
   "id": "0324cd93-ea80-4617-b861-ec87467a73ee",
   "metadata": {},
   "source": [
    "The ```theshold_otsu``` function does not apply the threshold to the image. It calculates the value of the threshold."
   ]
  },
  {
   "cell_type": "code",
   "execution_count": 12,
   "id": "0078c9eb-26cd-4d8a-8133-b4f62528e1a2",
   "metadata": {},
   "outputs": [
    {
     "data": {
      "text/plain": [
       "244"
      ]
     },
     "execution_count": 12,
     "metadata": {},
     "output_type": "execute_result"
    }
   ],
   "source": [
    "thresh=threshold_otsu(image)\n",
    "thresh"
   ]
  },
  {
   "cell_type": "markdown",
   "id": "4c84a474-1d28-48c9-9115-de59e55c617a",
   "metadata": {},
   "source": [
    "We can then create a binary image ```bw``` by comparing all the values in ```image``` to the threhold value."
   ]
  },
  {
   "cell_type": "code",
   "execution_count": 13,
   "id": "a78846a0-db55-49f6-b6b9-0d62bc0e9ff3",
   "metadata": {},
   "outputs": [
    {
     "data": {
      "text/plain": [
       "numpy.bool_"
      ]
     },
     "execution_count": 13,
     "metadata": {},
     "output_type": "execute_result"
    }
   ],
   "source": [
    "bw = image > thresh\n",
    "type(bw[0,0,0])"
   ]
  },
  {
   "cell_type": "markdown",
   "id": "c0cb7d66-b35d-4af3-971f-80c65e9d48e0",
   "metadata": {},
   "source": [
    "The elements of ```bw``` are of type bool. These elements are either ```True``` or ```False```. In this case they are ```True``` if the values are above the threshold value and ```False``` if they are below. Napari is able to visualise boolean images."
   ]
  },
  {
   "cell_type": "code",
   "execution_count": 14,
   "id": "1892c603-8ade-4c8c-8637-d3d784768826",
   "metadata": {},
   "outputs": [],
   "source": [
    "viewer = napari.view_image(bw)"
   ]
  },
  {
   "cell_type": "markdown",
   "id": "7e8e399d-7193-4893-81e8-90551ae5ed80",
   "metadata": {},
   "source": [
    "The binary segmentation has done a fairly good job of finding the nuclei. However, the two that are close to one another have been joined together. As they are round objects, we can separate them using the ```watershed``` function from the ```skimage``` module ```segmentation```."
   ]
  },
  {
   "cell_type": "code",
   "execution_count": 15,
   "id": "f78694e7-3869-4bf5-9e79-d69f776a705c",
   "metadata": {},
   "outputs": [],
   "source": [
    "from skimage.segmentation import watershed"
   ]
  },
  {
   "cell_type": "markdown",
   "id": "08ddb4b6-112d-4808-8266-db95c38cbe65",
   "metadata": {},
   "source": [
    "If we naively just try to apply the watershed function to our binary image, like we might do in 2D in Fiji, we get unsatisfactory results."
   ]
  },
  {
   "cell_type": "code",
   "execution_count": 16,
   "id": "46ac4086-fd96-402f-a54e-095cdf164207",
   "metadata": {},
   "outputs": [],
   "source": [
    "ws=watershed(bw)\n",
    "viewer = napari.view_image(ws)"
   ]
  },
  {
   "cell_type": "markdown",
   "id": "6696c427-17fe-49ef-90bf-eb23968792e8",
   "metadata": {},
   "source": [
    "Checking the [watershed documentation](https://scikit-image.org/docs/stable/api/skimage.segmentation.html#skimage.segmentation.watershed) we can see that it uses ```local_minima``` by default. So let's try inverting the binary image with ```np.invert()``` so the nuclei will now be black and the background white. We also use the binary image (not inverted) to mask the result, so we only see the nuclei. "
   ]
  },
  {
   "cell_type": "code",
   "execution_count": 17,
   "id": "f7ba712b-7185-414c-b70c-0aa155570946",
   "metadata": {},
   "outputs": [],
   "source": [
    "ws=watershed(np.invert(bw),mask=bw)\n",
    "viewer = napari.view_image(ws)"
   ]
  },
  {
   "cell_type": "markdown",
   "id": "aab7dd76-f38d-4114-8d13-02b80f85d5c1",
   "metadata": {},
   "source": [
    "This is better. We can see the individual nuclei have been labelled with different intensity values, but the two joined cells have not been separated. Looking at the [watershed documentation](https://scikit-image.org/docs/stable/api/skimage.segmentation.html#skimage.segmentation.watershed) again, it advises that the markers for the watershed should be explicitaly defined. This means that we have to tell the watershed algorithm where the centres of our nuclei are."
   ]
  },
  {
   "cell_type": "markdown",
   "id": "e8df08ba-c38a-494d-be65-4c780a8da9a2",
   "metadata": {},
   "source": [
    "For this we need to import more modules. Firstly, we need ```ndimage``` from the ```scipy``` package. ```scipy``` is installed with Napari. We will also use ```peak_local_max()``` to find local maxima in the image."
   ]
  },
  {
   "cell_type": "code",
   "execution_count": 18,
   "id": "332aff6b-89e9-4532-983f-eace96a6d6c7",
   "metadata": {},
   "outputs": [],
   "source": [
    "from scipy import ndimage as ndi\n",
    "from skimage.feature import peak_local_max"
   ]
  },
  {
   "cell_type": "markdown",
   "id": "aa46a36e-57f8-4ad1-a4ef-0a1e30ceeed0",
   "metadata": {},
   "source": [
    "```ndimage``` contains a function to do a [Euclidean distance transform](https://docs.scipy.org/doc/scipy/reference/generated/scipy.ndimage.distance_transform_edt.html) which measures the distance of the foreground of the image from the background. The ```peak_local_max()``` is used to find the points furthest from the backgroud, i.e. the centre of the nuclei. "
   ]
  },
  {
   "cell_type": "code",
   "execution_count": 19,
   "id": "a3a0c2fd-95e6-4ff0-98c6-6fdcfb3cec3b",
   "metadata": {},
   "outputs": [],
   "source": [
    "distance = ndi.distance_transform_edt(bw)"
   ]
  },
  {
   "cell_type": "markdown",
   "id": "0b507942-361a-4b15-8663-6307514fca3b",
   "metadata": {},
   "source": [
    "For the ```peak_local_max()``` function, the inputs are the distance transform. We can also give the minimum distance between peaks. Using napari we can estimate the size of the nuclei. Look in the bottom left corner of the napari viewer, while hovering the cursor over a point in the image. The coordinates shown here are the position of the cursor on the image. So by hovering the cursor over two points either side of the nuclei we can measure the diameter of a nuclei. Note that there are nuclei appear flattened so we should approximate x, y and z distance."
   ]
  },
  {
   "cell_type": "code",
   "execution_count": 30,
   "id": "86bbda52-e811-4a68-a40c-70dbb581f251",
   "metadata": {},
   "outputs": [],
   "source": [
    "viewer = napari.view_image(bw)"
   ]
  },
  {
   "cell_type": "markdown",
   "id": "09330dcb-151d-4208-a38d-ec07b5b41a3a",
   "metadata": {},
   "source": [
    "The nuclei in the image have a major axis of approximately 50 pixels in x-y and a minor axis of approximately 15 pixels in z. ```peak_local_max()``` looks for peaks in regions of 2 * min_distance + 1 (* is multiplication in python). So as an estimate I assign the min_distance a value of 15."
   ]
  },
  {
   "cell_type": "code",
   "execution_count": 34,
   "id": "06276ef7-a58d-40c3-8d2d-8d8f98a62bdf",
   "metadata": {},
   "outputs": [
    {
     "data": {
      "text/plain": [
       "array([[ 43, 194, 111],\n",
       "       [ 48, 206, 182],\n",
       "       [ 26,  71,  43],\n",
       "       [ 65,  74, 206],\n",
       "       [ 20,  72, 180]])"
      ]
     },
     "execution_count": 34,
     "metadata": {},
     "output_type": "execute_result"
    }
   ],
   "source": [
    "peaks = peak_local_max(distance, min_distance=15)\n",
    "peaks"
   ]
  },
  {
   "cell_type": "markdown",
   "id": "609e86c4-cb6a-4929-ba0f-2804a644515a",
   "metadata": {},
   "source": [
    "The coordinates of 5 peaks are outputted, this looks promising as there are 5 nuclei. Unfortunately, the ```watershed()``` function does not take coordinates as an input for the markers. We have to create a array the same size and shape of the images. All the values should be zero, except for the positions of the markers. These positions should each have a different integer value.\n",
    "\n",
    "To do this in python, we can create an array of full of zeros using the ```np.zeros``` function. We can provide an ```array.shape``` ([remember from earlier?](#image.shape)) to give the dimensions, in this case it's the same as the distance image we created and we use dtype to say that all the values in this array should be integers.\n",
    "\n",
    "The next tool we used is a for loop. This allows us to carry out a task for each item in a list or array. Here we want to say for each item in peaks, i.e. each set of coordinates, find the position in the zero array and replace the zero value with a different integer marker. This is what the code below does. The line ```for coords in peaks``` means assign the first set of coordinates in ```peaks``` to the variable ```coords```. The indented lines below tells python what do to with the ```coords```. This indent must be four spaces or a tab. Anything not indented is not part of the for loop. After carrying out the indented tasks, the next set of coordinates from ```peaks``` is assigned to the variable ```coords```. The tasks are then repeated with the next set of coordinates. This continues until all the coordinates in ```peaks``` have been used.\n",
    "\n",
    "In the for loop below two tasks are completed. The first is to add 1 to the current value of ```i```. Before the loop ```i``` is defined as 0 and there are 5 sets of coordinates in ```peaks```, so ```i``` will take the value 1 for the first set of coordinates, 2 for the second etc. The second task takes the ```coords``` and transposes it ```coords.T``` and then converts the coords to a ```tuple()```. This has to be done so the correct element if the ```markers``` array is selected. It is then assigned the value ```i```. \n",
    "\n",
    "A tuple is a type of another type of data structure in python. We have already met arrays which are another. A tuple is an immutable and ordered data structure. This means that the contents cannot be changed once it has been created and neither can the order the elememts. This is important for images, if the elements of the nuclei image are rearranged we would no longer be able to visualise the shape of the nuclei. We have already seen a tuple earlier on in the notebook, can you think where?"
   ]
  },
  {
   "cell_type": "code",
   "execution_count": 22,
   "id": "05a6f2da-bd94-4d6e-b5ec-a4d6de202d86",
   "metadata": {},
   "outputs": [],
   "source": [
    "markers = np.zeros(distance.shape, dtype=int)\n",
    "i=0\n",
    "for coords in peaks:\n",
    "    i=i+1\n",
    "    markers[tuple(coords.T)]=i"
   ]
  },
  {
   "cell_type": "markdown",
   "id": "4acd6c28-38f3-4b1b-b2f0-2ade6de05ba5",
   "metadata": {},
   "source": [
    "So now that the markers are defined, these can be passed to the watershed function resulting in the two nuclei now being labelled separately. Note that we need to give the watershed the negative distance map (i.e. distance from the markers)."
   ]
  },
  {
   "cell_type": "code",
   "execution_count": 23,
   "id": "5e1a0be7-4e77-454f-85cf-db79fceca5fd",
   "metadata": {},
   "outputs": [],
   "source": [
    "ws=watershed(-distance,markers,mask=bw)\n",
    "viewer = napari.view_image(ws)"
   ]
  },
  {
   "cell_type": "markdown",
   "id": "026074bb-4b66-4a5f-ba23-6cf80068bfeb",
   "metadata": {},
   "source": [
    "Earlier we adjusted the settings in the napari viewer. Here is an example of defining the parameters as part of the script. The nuclei image is displayed as an isosurface and the labelled mask is coloured and displayed with an opacity of 0.5 so that we can see how well the segmentation has worked. Two image layers are used. The first is created with the ```napari.view_image``` function. This is used to define the viewer variable. ```viewer.add_image()``` is used to add another image to the same viewer. It is also possible to scale the data to physical dimensions rather than pixels and to add a scale bar. (The scales used here are not realistic or read from the metadata of the images, they are choosen to emphases the visual difference when viewed in napari)"
   ]
  },
  {
   "cell_type": "code",
   "execution_count": 36,
   "id": "884bf85b-8ce5-40bf-a0e0-cc1f68b057fa",
   "metadata": {},
   "outputs": [],
   "source": [
    "viewer = napari.view_image(image,colormap='gray',name='image',rendering='iso', iso_threshold=11, scale=(0.5, 0.2, 0.2))\n",
    "viewer.add_image(ws,colormap='turbo',name='mask',opacity=0.5, scale=(0.5, 0.2, 0.2))\n",
    "viewer.scale_bar.visible = True\n",
    "viewer.scale_bar.unit = \"um\"\n",
    "napari.run()"
   ]
  },
  {
   "cell_type": "markdown",
   "id": "ea5c94ab-26f0-4d79-a0cc-3e25b086447f",
   "metadata": {},
   "source": [
    "Previously we used a for loop to format the markers array for the watershed function. If you have a lot of peaks this will be slow. It is better to define this array without a for loop. An example of how to do this is shown below. This is based on the [skimage watershed example](https://scikit-image.org/docs/stable/auto_examples/segmentation/plot_watershed.html#sphx-glr-auto-examples-segmentation-plot-watershed-py). "
   ]
  },
  {
   "cell_type": "code",
   "execution_count": 25,
   "id": "d5d398dd-18b8-4242-83b1-7497e0053bc3",
   "metadata": {},
   "outputs": [],
   "source": [
    "mask = np.zeros(distance.shape, dtype=bool)\n",
    "mask[tuple(coords.T)] = True\n",
    "markers2, _ = ndi.label(mask)\n",
    "labels = watershed(-distance, markers2, mask=bw)"
   ]
  },
  {
   "cell_type": "markdown",
   "id": "2b2083fa-b685-49df-a0ec-74d0e86d93f7",
   "metadata": {},
   "source": [
    "Try viewing the ```labels``` variable in napari along with watershed output ```ws``` to check they give the same result."
   ]
  },
  {
   "cell_type": "markdown",
   "id": "d07e83b1-4632-452b-82f7-4312f06deebe",
   "metadata": {},
   "source": [
    "### Measurements\n",
    "\n",
    "Now that we have completed the segmentation of the nuclei we may want to take some measurements. This can be done with ```skimage.measure.regionprops_table```. Read the [regionprops documentation](https://scikit-image.org/docs/stable/api/skimage.measure.html#skimage.measure.regionprops) to see the list of available properties that can be measured. It is also possible to define custom properties. As an example, here we measure the area of the nuclei and the mean intensity of the nuclei. The properties are defined using a list, a data structure that is mutable and ordered. The ```regionprops_table``` outputs a dictionary. This is data structure which is mutable and unorderd. Each of the elements in a dictionary is made up for a key-value pair. In this case the keys are the properties, area and intensity_mean, and the respective values are an array containing the measured values for each nuclei. In the output you can see the dictionary has curly brackets around it."
   ]
  },
  {
   "cell_type": "code",
   "execution_count": 26,
   "id": "29b21b50-e9a0-48b9-80f6-063a2c07e309",
   "metadata": {},
   "outputs": [
    {
     "data": {
      "text/plain": [
       "{'area': array([202018., 164432., 160034., 141454.]),\n",
       " 'intensity_mean': array([438.84981536, 438.50555853, 404.9145869 , 404.02810101])}"
      ]
     },
     "execution_count": 26,
     "metadata": {},
     "output_type": "execute_result"
    }
   ],
   "source": [
    "from skimage.measure import regionprops_table\n",
    "properties = ['area', 'intensity_mean']\n",
    "table = regionprops_table(ws, image, properties=properties)\n",
    "table"
   ]
  },
  {
   "cell_type": "markdown",
   "id": "f95af5e3-781d-4e24-b6db-cfcfceda1534",
   "metadata": {},
   "source": [
    "### Further Examples and Resources\n",
    "\n",
    "#### Thresholding per plane for 2D+t time series using list comprehension."
   ]
  },
  {
   "cell_type": "code",
   "execution_count": 27,
   "id": "121ce85d-6d6d-499c-ae96-f7fc98c6a94f",
   "metadata": {},
   "outputs": [
    {
     "name": "stdout",
     "output_type": "stream",
     "text": [
      "[60, 69, 79, 91, 105, 123, 143, 164, 181, 194, 203, 210, 216, 222, 228, 234, 240, 245, 250, 255, 259, 262, 264, 265, 266, 267, 267, 268, 268, 264, 260, 255, 255, 257, 260, 263, 266, 270, 275, 281, 288, 290, 293, 297, 300, 304, 309, 307, 303, 298, 291, 285, 281, 275, 269, 263, 256, 250, 245, 239, 235, 231, 227, 223, 221, 220, 229, 244, 251, 253, 253, 249, 244, 240, 236, 231, 223, 213, 199, 181, 159, 137, 116, 99, 86, 75, 67, 59, 53, 48, 43, 39, 35, 32, 30, 27, 25, 24, 23, 23]\n"
     ]
    }
   ],
   "source": [
    "thresh_per_plane = [threshold_otsu(image[t,:,:]) for t in range(image.shape[0])]\n",
    "print(thresh_per_plane)"
   ]
  },
  {
   "cell_type": "markdown",
   "id": "ac22f67d-0d1b-4b33-981f-d2c077aa873e",
   "metadata": {},
   "source": [
    "This outputs a list of thresholds, one for each plane in an image stack. Note that since the order of the thresholds is important, it would be more suitable to create a tuple than a list. List comprehension a more consise way of writing for loops than in the example above. This is considered more \"pythonic\"."
   ]
  },
  {
   "cell_type": "code",
   "execution_count": 28,
   "id": "224be076-4af9-4bb8-a1d0-9b627c9eae5c",
   "metadata": {},
   "outputs": [
    {
     "name": "stdout",
     "output_type": "stream",
     "text": [
      "(60, 69, 79, 91, 105, 123, 143, 164, 181, 194, 203, 210, 216, 222, 228, 234, 240, 245, 250, 255, 259, 262, 264, 265, 266, 267, 267, 268, 268, 264, 260, 255, 255, 257, 260, 263, 266, 270, 275, 281, 288, 290, 293, 297, 300, 304, 309, 307, 303, 298, 291, 285, 281, 275, 269, 263, 256, 250, 245, 239, 235, 231, 227, 223, 221, 220, 229, 244, 251, 253, 253, 249, 244, 240, 236, 231, 223, 213, 199, 181, 159, 137, 116, 99, 86, 75, 67, 59, 53, 48, 43, 39, 35, 32, 30, 27, 25, 24, 23, 23)\n"
     ]
    }
   ],
   "source": [
    "thresh_per_plane = tuple(threshold_otsu(image[t,:,:]) for t in range(image.shape[0]))\n",
    "print(thresh_per_plane)"
   ]
  },
  {
   "cell_type": "markdown",
   "id": "564422ca-f1be-45ec-9a5c-e1187ac928b0",
   "metadata": {},
   "source": [
    "#### Lazy loading using Dask\n",
    "Example: https://napari.org/stable/tutorials/processing/dask.html \\\n",
    "My implementation: https://github.com/Laura190/sldyNapari \\\n",
    "Similar to virtual stacks in Fiji, it is possible to display images in napari without loading all the data into your RAM. It is also possible to define functions that are only executed when the images are viewed. In this example, images from light sheet data are deconvolved and deskewed on demand as the images are viewed.\n",
    "\n",
    "#### Cellpose and reading metadata\n",
    "My implementation: https://github.com/Laura190/NucleiSegmentationCellpose/blob/main/nuclei_segmentation.ipynb \\\n",
    "For the original challenge that this dataset was from I used (cellpose)[http://www.cellpose.org/] (some of the images were more challenging to segment than the one we used today). This script is an example of how to use batch processing with cellpose and uses napari to display the results.\n",
    "\n",
    "#### Bioformats\n",
    "It is possible to use bioformats in python. You need to install ```python-bioformats```. Then you can define a function like this:\n",
    "\n",
    "```\n",
    "import bioformats\n",
    "import javabridge\n",
    "import numpy as np\n",
    "\n",
    "def open_image_stack(file_path):\n",
    "    # Start the Java Virtual Machine\n",
    "    javabridge.start_vm(class_path=bioformats.JARS)\n",
    "\n",
    "    # Open the file\n",
    "    with bioformats.ImageReader(file_path) as reader:\n",
    "        # Read metadata\n",
    "        size_z = reader.rdr.getSizeZ()\n",
    "        size_c = reader.rdr.getSizeC()\n",
    "        size_t = reader.rdr.getSizeT()\n",
    "        size_x = reader.rdr.getSizeX()\n",
    "        size_y = reader.rdr.getSizeY()\n",
    "\n",
    "        # Read image stack\n",
    "        image_stack = np.zeros((size_z, size_c, size_t, size_x, size_y), dtype=np.uint16)\n",
    "        for t in range(size_t):\n",
    "            for z in range(size_z):\n",
    "                for c in range(size_c):\n",
    "                    image_stack[z, c, t] = reader.read(c=c, z=z, t=t, series=None, rescale=False)\n",
    "\n",
    "    # Stop the Java Virtual Machine\n",
    "    javabridge.kill_vm()\n",
    "\n",
    "    return image_stack\n",
    "```\n",
    "#### OMERO\n",
    "For an example of reading data from OMERO into python see https://github.com/warwickcamdu/MinimalOmeropy\n",
    "\n",
    "#### Skimage\n",
    "For more examples of the available image processing tools as part of skimage see https://scikit-image.org/docs/stable/auto_examples/index.html\n",
    "\n",
    "#### Napari\n",
    "For more napari examples see https://napari.org/stable/tutorials/index.html\n",
    "\n",
    "#### General Introductions to Python\n",
    "Self guided beginners course: https://github.com/ChasNelson1990/python-zero-to-hero-beginners-course \\\n",
    "Training courses recommended by Warwick RSE: https://warwick.ac.uk/research/rtp/sc/rse/training/gettingstarted/"
   ]
  },
  {
   "cell_type": "code",
   "execution_count": null,
   "id": "baf12252-18a4-4de2-b81b-3a29d5b5f405",
   "metadata": {},
   "outputs": [],
   "source": []
  }
 ],
 "metadata": {
  "kernelspec": {
   "display_name": "Python 3 (ipykernel)",
   "language": "python",
   "name": "python3"
  },
  "language_info": {
   "codemirror_mode": {
    "name": "ipython",
    "version": 3
   },
   "file_extension": ".py",
   "mimetype": "text/x-python",
   "name": "python",
   "nbconvert_exporter": "python",
   "pygments_lexer": "ipython3",
   "version": "3.9.19"
  }
 },
 "nbformat": 4,
 "nbformat_minor": 5
}
