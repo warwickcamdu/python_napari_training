{
 "cells": [
  {
   "cell_type": "code",
   "execution_count": 4,
   "id": "e0cedb48-0067-4d96-8553-13a00ef9d1b1",
   "metadata": {},
   "outputs": [],
   "source": [
    "# Gui for rendering\n",
    "%gui qt5\n",
    "# Packages\n",
    "import numpy as np\n",
    "from skimage.io import imread\n",
    "import napari"
   ]
  },
  {
   "cell_type": "code",
   "execution_count": 5,
   "id": "f1b51729-8dac-4b87-90c4-41ff353f480d",
   "metadata": {},
   "outputs": [],
   "source": [
    "# Load image\n",
    "image = imread(\"nuclei1_out_c00_dr90_image.tif\")"
   ]
  },
  {
   "cell_type": "code",
   "execution_count": 6,
   "id": "ad4dd6a0-40d7-41b1-93a6-1490c0bc2f53",
   "metadata": {},
   "outputs": [],
   "source": [
    "# Open image in napari\n",
    "viewer = napari.view_image(image)"
   ]
  },
  {
   "cell_type": "code",
   "execution_count": null,
   "id": "eb4becc4-9782-45e8-b973-813aa6606cb5",
   "metadata": {},
   "outputs": [],
   "source": []
  }
 ],
 "metadata": {
  "kernelspec": {
   "display_name": "Python 3 (ipykernel)",
   "language": "python",
   "name": "python3"
  },
  "language_info": {
   "codemirror_mode": {
    "name": "ipython",
    "version": 3
   },
   "file_extension": ".py",
   "mimetype": "text/x-python",
   "name": "python",
   "nbconvert_exporter": "python",
   "pygments_lexer": "ipython3",
   "version": "3.9.19"
  }
 },
 "nbformat": 4,
 "nbformat_minor": 5
}
